{
 "cells": [
  {
   "cell_type": "markdown",
   "metadata": {},
   "source": [
    "# OOP - Composition, Encapsulation, & Inheritance"
   ]
  },
  {
   "cell_type": "markdown",
   "metadata": {},
   "source": [
    "## Exercise 1: \n",
    "Create a Temperature Converter program using OOP by creating a Temperature class with two private attributes to store Fahrenheit and Celsius degrees. In the Temperature class, define methods that \n",
    "- sets the private attributes. When you set one unit of temperature, it should calculate and set the other unit of temperature. For example, when you set degrees in Fahrenheit, it should calculate and set in Celsius degrees. \n",
    "- gets the hidden attributes that round the number to 2 decimal places. \n",
    "\n",
    "The output should look something like following:\n",
    "\n",
    "    MENU\n",
    "    1. Fahrenheit to Celsius\n",
    "    2. Celsius to Fahrenheit\n",
    "    3. Quit\n",
    "    \n",
    "    Enter a menu option: 1\n",
    "    Enter degrees in Fahrenheit: 99\n",
    "    99.00 oF is 37.22 oC.\n",
    "    \n",
    "    Enter a menu option: 2\n",
    "    Enter degrees in Celsius: 37.22\n",
    "    37.22 oC is 99.00 oF.\n",
    "    \n",
    "    Enter a menu option: 3\n",
    "    Bye\n"
   ]
  },
  {
   "cell_type": "code",
   "execution_count": 5,
   "metadata": {},
   "outputs": [],
   "source": [
    "class Temperature :\n",
    "    \"\"\"Object with Celsius and Fahrenheit attributes\"\"\"\n",
    "    \n",
    "    def __init__(self) :\n",
    "        \"\"\"Initialize Celsius and Fahrenheit attributes at the freezing point of water\"\"\"\n",
    "        self.__celsius = 0\n",
    "        self.__fahrenheit = 32\n",
    "    \n",
    "    def convert_f_to_c(self, temp) :\n",
    "        self.__fahrenheit = temp\n",
    "        self.__celsius = round(5 / 9 * (self.__fahrenheit - 32), 2)\n",
    "        return\n",
    "\n",
    "    def convert_c_to_f(self, temp) :\n",
    "        self.__celsius = temp\n",
    "        self.__fahrenheit = round(9 / 5 * self.__celsius + 32, 2)\n",
    "        return\n",
    "    \n",
    "    def get_f(self) :\n",
    "        return self.__fahrenheit\n",
    "    \n",
    "    def get_c(self) :\n",
    "        return self.__celsius\n",
    "    \n",
    "    "
   ]
  },
  {
   "cell_type": "code",
   "execution_count": 6,
   "metadata": {},
   "outputs": [
    {
     "name": "stdout",
     "output_type": "stream",
     "text": [
      "MENU\n",
      "    1. Fahrenheit to Celsius\n",
      "    2. Celsius to Fahrenheit\n",
      "    3. Quit\n",
      "    \n",
      "Enter a menu option: 1\n",
      "Enter degrees in Fahrenheit: 99\n",
      "99.00 °F is 37.22 °C.\n",
      "\n",
      "Enter a menu option: 2\n",
      "Enter degrees in Celsius: 37.22\n",
      "37.22 °C is 99.00 °F.\n",
      "\n",
      "Enter a menu option: 3\n",
      "Bye\n"
     ]
    }
   ],
   "source": [
    "def display_menu() :\n",
    "    print(f\"\"\"MENU\n",
    "    1. Fahrenheit to Celsius\n",
    "    2. Celsius to Fahrenheit\n",
    "    3. Quit\n",
    "    \"\"\")\n",
    "\n",
    "option = \"0\"\n",
    "user_temp = Temperature()\n",
    "display_menu()\n",
    "while option != \"3\" :\n",
    "    option = input(\"Enter a menu option: \")\n",
    "    if option == \"1\" :\n",
    "        temperature = float(input(\"Enter degrees in Fahrenheit: \"))\n",
    "        user_temp.convert_f_to_c(temperature)\n",
    "        print(f\"{user_temp.get_f():.2f} °F is {user_temp.get_c():.2f} °C.\\n\")\n",
    "    elif option == \"2\" :\n",
    "        temperature = float(input(\"Enter degrees in Celsius: \"))\n",
    "        user_temp.convert_c_to_f(temperature)\n",
    "        print(f\"{user_temp.get_c():.2f} °C is {user_temp.get_f():.2f} °F.\\n\")\n",
    "    elif option == \"3\" :\n",
    "        print(\"Bye\")\n",
    "    else :\n",
    "        continue"
   ]
  },
  {
   "cell_type": "markdown",
   "metadata": {},
   "source": [
    "## Exercise 2: \n",
    "Create a <b>Privileges</b> class that has privileges, a private attribute. It can store a list of strings such as \"can add\", \"can delete\", and \"can modify\".  Write a method called show_privileges(). \n",
    "\n",
    "Create a class called <b>Admin</b> that inherits from the <b>Person</b> class (see next cell). Make a Privileges instance as an attribute in the Admin class. Create a new instance of Admin and use your method to show its privileges.\n",
    "\n",
    "Admin is a child of Person\n",
    "Admin has Privileges\n"
   ]
  },
  {
   "cell_type": "code",
   "execution_count": 7,
   "metadata": {},
   "outputs": [],
   "source": [
    "class Person :\n",
    "    \n",
    "    def __init__(self, name, age, gender) :\n",
    "        self.__name = name\n",
    "        self.__age = age\n",
    "        self.__gender = gender\n",
    "\n",
    "    def get_name(self) :\n",
    "        return self.__name\n",
    "    \n",
    "    def get_info(self) :\n",
    "        return f\"Name: {self.__name}\\nAge: {self.__age}\\nGender: {self.__gender}\""
   ]
  },
  {
   "cell_type": "code",
   "execution_count": 8,
   "metadata": {},
   "outputs": [],
   "source": [
    "class Privileges :\n",
    "    \"\"\"Object that has a privilege attribute\"\"\"\n",
    "    \n",
    "    def __init__(self) :\n",
    "        \"\"\"Initializes the privileges attribute to an empty list\"\"\"\n",
    "        self.__privileges = []\n",
    "    \n",
    "    def add_privilege(self, string) :\n",
    "        self.__privileges.append(string)\n",
    "        return\n",
    "    \n",
    "    def show_privileges(self) :\n",
    "        return self.__privileges"
   ]
  },
  {
   "cell_type": "code",
   "execution_count": 9,
   "metadata": {},
   "outputs": [],
   "source": [
    "class Admin(Person) :\n",
    "    \"\"\"An Admin is a Person who has Privileges\"\"\"\n",
    "    \n",
    "    def __init__(self, name, age, gender) :\n",
    "        \"\"\"Initialize the Person variables and set the privileges attribute to an instance of Privileges\"\"\"\n",
    "        super().__init__(name, age, gender)\n",
    "        self.__privileges = Privileges()\n",
    "        self.__privileges.add_privilege(\"can add\")\n",
    "        self.__privileges.add_privilege(\"can delete\")\n",
    "        self.__privileges.add_privilege(\"can modify\")\n",
    "\n",
    "    def show_privileges(self) :\n",
    "        return self.__privileges.show_privileges()\n",
    "        "
   ]
  },
  {
   "cell_type": "code",
   "execution_count": 12,
   "metadata": {},
   "outputs": [
    {
     "name": "stdout",
     "output_type": "stream",
     "text": [
      "Name: Andrew\n",
      "Age: 25\n",
      "Gender: M\n",
      "\n",
      "Privileges:\n",
      "can add\n",
      "can delete\n",
      "can modify\n"
     ]
    }
   ],
   "source": [
    "employee1 = Admin(\"Andrew\", 25, \"M\")\n",
    "print(employee1.get_info())\n",
    "print(\"\\nPrivileges:\")\n",
    "privileges = employee1.show_privileges()\n",
    "for x in range(len(privileges)) :\n",
    "    print(privileges[x])"
   ]
  },
  {
   "cell_type": "markdown",
   "metadata": {},
   "source": [
    "## Exercise 3:\n",
    "1. Use the Product class from next cell\n",
    "2. Add get_description() method to Product class\n",
    "3. Create Book class inherited from the Product class. Add author attribute to the Book class and make modification to get_description() method\n",
    "4. Create Movie class inherited from the Product class. Add year attributes. Add/modify necessary methods"
   ]
  },
  {
   "cell_type": "code",
   "execution_count": 17,
   "metadata": {},
   "outputs": [],
   "source": [
    "# From Day 1 Class Demo\n",
    "class Product : \n",
    "    \"\"\"A simple attempt to model a product.\"\"\"\n",
    "    category = \"product\"\n",
    "    \n",
    "    def __init__(self, name, price, discount_rate) :\n",
    "        \"\"\"Initialize name, price, and discount_rate attributes\"\"\"\n",
    "        self.name = name\n",
    "        self.price = price\n",
    "        self.discount_rate = discount_rate\n",
    "    \n",
    "    def get_description(self) :\n",
    "        \"\"\"Gives a description of the product\"\"\"\n",
    "        return(f\"{self.name} is a {self.category} that sells for ${self.price} but is currently discounted by {self.discount_rate}%.\")\n",
    "        \n",
    "    def get_discount_amount(self) :\n",
    "        \"\"\"Computes a discount calculation\"\"\"\n",
    "        return self.price * self.discount_rate / 100\n",
    "    \n",
    "        \n",
    "    def get_info(self) :\n",
    "        return(f\"Name: {self.name}\\n\" + \n",
    "                f\"Price: {self.price}\\n\" +\n",
    "                f\"Discount Amount: ${self.get_discount_amount():,.2f}\\n\" +\n",
    "                f\"Discounted Price: ${self.get_sale_price():,.2f}\")\n",
    "    \n",
    "    def get_sale_price(self) :\n",
    "        \"\"\"Calls another method to find a sale price\"\"\"\n",
    "        return self.price - self.get_discount_amount()\n",
    "        \n",
    "        "
   ]
  },
  {
   "cell_type": "code",
   "execution_count": 18,
   "metadata": {},
   "outputs": [],
   "source": [
    "class Book(Product) :\n",
    "    \"\"\"An object with an author attribute. Is the child of Product class.\"\"\"\n",
    "    category = \"book\"\n",
    "    \n",
    "    def __init__(self, name, price, discount_rate, author) :\n",
    "        super().__init__(name, price, discount_rate)\n",
    "        self.author = author\n",
    "\n",
    "    def get_description(self) :\n",
    "        \"\"\"Gives a description of the book\"\"\"\n",
    "        return(f\"{self.name} is a {self.category} by {self.author} that sells for ${self.price} but is currently discounted by {self.discount_rate}%.\")\n",
    "\n",
    "class Movie(Product) :\n",
    "    \"\"\"An object with a year attribute. Is the child of Product class.\"\"\"\n",
    "    category = \"movie\"\n",
    "    \n",
    "    def __init__(self, name, price, discount_rate, year) :\n",
    "        super().__init__(name, price, discount_rate)\n",
    "        self.year = year\n",
    "\n",
    "    def get_description(self) :\n",
    "        \"\"\"Gives a description of the movie\"\"\"\n",
    "        return(f\"{self.name} is a {self.category} released in {self.year} that sells for ${self.price} but is currently discounted by {self.discount_rate}%.\")"
   ]
  },
  {
   "cell_type": "code",
   "execution_count": 20,
   "metadata": {},
   "outputs": [
    {
     "name": "stdout",
     "output_type": "stream",
     "text": [
      "Shoe is a product that sells for $74.99 but is currently discounted by 50%.\n",
      "Python for Dummies is a book by Elmo that sells for $7.99 but is currently discounted by 20%.\n",
      "Gladiator is a movie released in 2000 that sells for $3.99 but is currently discounted by 15%.\n"
     ]
    }
   ],
   "source": [
    "product1 = Product(\"Shoe\", 74.99, 50)\n",
    "book1 = Book(\"Python for Dummies\", 7.99, 20, \"Elmo\")\n",
    "movie1 = Movie(\"Gladiator\", 3.99, 15, 2000)\n",
    "print(product1.get_description())\n",
    "print(book1.get_description())\n",
    "print(movie1.get_description())"
   ]
  },
  {
   "cell_type": "markdown",
   "metadata": {},
   "source": [
    "## Exercise 4\n",
    "Create a <b>MyDate</b> class with month, day, year, hour, minute, and second <b>private attributes</b>.  Create an initialization method that takes a string in the format of \"mm-dd-yyyy hh:mm:ss\". Also create necessary public methods as needed.  \n",
    "\n",
    "Then, run below program to show your class works:\n",
    "\n",
    "    today = MyDate(\"10-10-2020 12:11:22\")\n",
    "    print(today.get_datetime())\n",
    "    today.set_datetime(\"11-31-1999 02:33:22\")\n",
    "    print(today.get_datetime())\n",
    "    print(today.get_datetime(month_first=False))"
   ]
  },
  {
   "cell_type": "code",
   "execution_count": 21,
   "metadata": {},
   "outputs": [],
   "source": [
    "class MyDate :\n",
    "    \"\"\"Set and display date\"\"\"\n",
    "    \n",
    "    def __init__(self, string) :\n",
    "        \"\"\"Initialize month, day, year, hour, minute, and second attributes\"\"\"\n",
    "        self.__month = string[0] + string[1]\n",
    "        self.__day = string[3] + string[4]\n",
    "        self.__year = string [6] + string[7] + string[8] + string[9]\n",
    "        self.__hour = string[11] + string[12]\n",
    "        self.__minute = string[14] + string[15]\n",
    "        self.__second = string[17] + string[18]\n",
    "   \n",
    "  \n",
    "    def get_datetime(self, month_first = True) :\n",
    "        \"\"\"Return the date and time in a frienly format, with either month or day first\"\"\"\n",
    "        months = [\"January\", \"February\", \"March\", \"April\", \"May\", \"June\", \"July\", \"August\", \"September\", \"October\", \"November\", \"December\"]\n",
    "        month_num = int(self.__month)\n",
    "        month_name = months[month_num - 1]\n",
    "        day_num = int(self.__day)\n",
    "        hour_num = int(self.__hour)\n",
    "        if hour_num > 11 :\n",
    "            time = \" pm\"\n",
    "            if hour_num > 12 :\n",
    "                hour_num = hour_num - 12\n",
    "        else :\n",
    "            time = \" am\"\n",
    "            if hour_num == 0 :\n",
    "                hour_num = 12\n",
    "        if month_first :\n",
    "            output = month_name + \" \" + str(day_num) + \", \" + self.__year + \" at \" + str(hour_num) + \":\" + self.__minute + \":\" + self.__second + time\n",
    "        else :\n",
    "            output = str(day_num) + \" \" + month_name + \" \" + self.__year + \" at \" + str(hour_num) + \":\" + self.__minute + \":\" + self.__second + time\n",
    "        return output\n",
    "    \n",
    "    def set_datetime(self, string) :\n",
    "        \"\"\"Replace values of attributes with new values\"\"\"\n",
    "        self.__month = string[0] + string[1]\n",
    "        self.__day = string[3] + string[4]\n",
    "        self.__year = string [6] + string[7] + string[8] + string[9]\n",
    "        self.__hour = string[11] + string[12]\n",
    "        self.__minute = string[14] + string[15]\n",
    "        self.__second = string[17] + string[18]       \n",
    "        return\n",
    "    \n",
    "    "
   ]
  },
  {
   "cell_type": "code",
   "execution_count": 22,
   "metadata": {},
   "outputs": [
    {
     "name": "stdout",
     "output_type": "stream",
     "text": [
      "October 10, 2020 at 12:11:22 pm\n",
      "November 31, 1999 at 2:33:22 am\n",
      "31 November 1999 at 2:33:22 am\n"
     ]
    }
   ],
   "source": [
    "# main program\n",
    "today = MyDate(\"10-10-2020 12:11:22\")\n",
    "print(today.get_datetime())\n",
    "today.set_datetime(\"11-31-1999 02:33:22\")\n",
    "print(today.get_datetime())\n",
    "print(today.get_datetime(month_first=False))"
   ]
  },
  {
   "cell_type": "markdown",
   "metadata": {},
   "source": [
    "## Challenge\n",
    "\n",
    "Modify <b>MyDate</b> class: \n",
    "\n",
    "    - to validate date & time (for month, days, hour, minute, and second). \n",
    "    - to add days\n",
    "    - to add hours"
   ]
  },
  {
   "cell_type": "code",
   "execution_count": 24,
   "metadata": {},
   "outputs": [],
   "source": [
    "class MyDate :\n",
    "    \"\"\"Set and display date\"\"\"\n",
    "    \n",
    "    def __init__(self, string) :\n",
    "        \"\"\"Initialize month, day, year, hour, minute, and second attributes\"\"\"\n",
    "        self.__month = string[0] + string[1]\n",
    "        self.__day = string[3] + string[4]\n",
    "        self.__year = string [6] + string[7] + string[8] + string[9]\n",
    "        self.__hour = string[11] + string[12]\n",
    "        self.__minute = string[14] + string[15]\n",
    "        self.__second = string[17] + string[18]\n",
    "    \n",
    "   \n",
    "    def add_days(self, num) :\n",
    "        \"\"\"Increase the days by a desired number\"\"\"\n",
    "        day_num = int(self.__day)\n",
    "        day_num += num\n",
    "        self.__day = str(day_num)\n",
    "        return\n",
    "    \n",
    "    def add_hours(self, num) :\n",
    "        \"\"\"Increase the hours by a desired number\"\"\"\n",
    "        hour_num = int(self.__hour)\n",
    "        hour_num += num\n",
    "        self.__hour = str(hour_num)\n",
    "        return\n",
    "    \n",
    "    def get_datetime(self, month_first = True) :\n",
    "        \"\"\"Return the date and time in a frienly format, with either month or day first\"\"\"\n",
    "        months = [\"January\", \"February\", \"March\", \"April\", \"May\", \"June\", \"July\", \"August\", \"September\", \"October\", \"November\", \"December\"]\n",
    "        month_num = int(self.__month)\n",
    "        month_name = months[month_num - 1]\n",
    "        day_num = int(self.__day)\n",
    "        hour_num = int(self.__hour)\n",
    "        if hour_num > 11 :\n",
    "            time = \" pm\"\n",
    "            if hour_num > 12 :\n",
    "                hour_num = hour_num - 12\n",
    "        else :\n",
    "            time = \" am\"\n",
    "            if hour_num == 0 :\n",
    "                hour_num = 12\n",
    "        if month_first :\n",
    "            output = month_name + \" \" + str(day_num) + \", \" + self.__year + \" at \" + str(hour_num) + \":\" + self.__minute + \":\" + self.__second + time\n",
    "        else :\n",
    "            output = str(day_num) + \" \" + month_name + \" \" + self.__year + \" at \" + str(hour_num) + \":\" + self.__minute + \":\" + self.__second + time\n",
    "        return output\n",
    "   \n",
    "    def set_datetime(self, string) :\n",
    "        \"\"\"Replace values of attributes with new values\"\"\"\n",
    "        self.__month = string[0] + string[1]\n",
    "        self.__day = string[3] + string[4]\n",
    "        self.__year = string [6] + string[7] + string[8] + string[9]\n",
    "        self.__hour = string[11] + string[12]\n",
    "        self.__minute = string[14] + string[15]\n",
    "        self.__second = string[17] + string[18]       \n",
    "        return\n",
    "   \n",
    "    def validate(self) :\n",
    "        \"\"\"Return true only if the month, day, hour, minute, and second are acceptable\"\"\"\n",
    "        days = {1 : 31, 2 : 28, 3 : 31, 4 : 30, 5 : 31, 6 : 30, 7 : 31, 8 : 31, 9 : 30, 10 : 31, 11 : 30, 12 : 31}\n",
    "        if int(self.__month) < 1 or int(self.__month) > 12 :\n",
    "            return False\n",
    "        if int(self.__day) < 1 or int(self.__day) > days[int(self.__month)] :\n",
    "            return False\n",
    "        if int(self.__hour) < 0 or int(self.__hour) > 23 :\n",
    "            return False\n",
    "        if int(self.__minute) < 0 or int(self.__minute) > 59 :\n",
    "            return False\n",
    "        if int(self.__second) < 0 or int(self.__second) > 59:\n",
    "            return False\n",
    "        return True\n"
   ]
  },
  {
   "cell_type": "code",
   "execution_count": 25,
   "metadata": {},
   "outputs": [
    {
     "name": "stdout",
     "output_type": "stream",
     "text": [
      "October 10, 2020 at 12:11:22 pm\n",
      "November 25, 1999 at 12:00:22 am\n",
      "The date is valid.\n",
      "31 November 1999 at 4:00:22 am\n",
      "The date is invalid.\n"
     ]
    }
   ],
   "source": [
    "# main program\n",
    "today = MyDate(\"10-10-2020 12:11:22\")\n",
    "print(today.get_datetime())\n",
    "\n",
    "today.set_datetime(\"11-25-1999 00:00:22\")\n",
    "print(today.get_datetime())\n",
    "if today.validate() :\n",
    "    print(\"The date is valid.\")\n",
    "else :\n",
    "    print(\"The date is invalid.\")\n",
    "\n",
    "today.add_days(6)\n",
    "today.add_hours(4)\n",
    "print(today.get_datetime(month_first=False))\n",
    "if today.validate() :\n",
    "    print(\"The date is valid.\")\n",
    "else :\n",
    "    print(\"The date is invalid.\")"
   ]
  },
  {
   "cell_type": "code",
   "execution_count": null,
   "metadata": {},
   "outputs": [],
   "source": []
  }
 ],
 "metadata": {
  "kernelspec": {
   "display_name": "Python 3",
   "language": "python",
   "name": "python3"
  },
  "language_info": {
   "codemirror_mode": {
    "name": "ipython",
    "version": 3
   },
   "file_extension": ".py",
   "mimetype": "text/x-python",
   "name": "python",
   "nbconvert_exporter": "python",
   "pygments_lexer": "ipython3",
   "version": "3.8.8"
  }
 },
 "nbformat": 4,
 "nbformat_minor": 4
}
