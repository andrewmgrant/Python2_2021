{
 "cells": [
  {
   "cell_type": "markdown",
   "metadata": {},
   "source": [
    "# OOP - Polymorphism, & Abstraction"
   ]
  },
  {
   "cell_type": "markdown",
   "metadata": {},
   "source": [
    "## Exercise 1: \n",
    "Create an abstract class called Vehicle with \n",
    "- color, make, and year private attributes \n",
    "\n",
    "and abstract method called \n",
    "- get_info() which returns all information\n",
    "- honk() which returns a string of honking sound\n",
    "\n",
    "Create Car, Boat, and Bicycle class which is a child class of the Vehicle class.  Then, create an instance of each child class and call get_info() method to print out its information in a user friendly format. Add other methods as you like."
   ]
  },
  {
   "cell_type": "code",
   "execution_count": 28,
   "metadata": {},
   "outputs": [],
   "source": [
    "from abc import ABC, abstractmethod\n",
    "\n",
    "class Vehicle(ABC) :\n",
    "    category = \"vehicle\"\n",
    "    \n",
    "    def __init__ (self, color, make, year) :\n",
    "        self.__color = color\n",
    "        self.__make = make\n",
    "        self.__year = year\n",
    "    \n",
    "    def get_color(self) :\n",
    "        return self.__color\n",
    "    \n",
    "    @abstractmethod\n",
    "    def get_info(self) :\n",
    "        pass\n",
    "    \n",
    "    def get_make(self) :\n",
    "        return self.__make\n",
    "    \n",
    "    def get_year(self) :\n",
    "        return self.__year\n",
    "    \n",
    "    @abstractmethod\n",
    "    def honk(self) :\n",
    "        pass"
   ]
  },
  {
   "cell_type": "code",
   "execution_count": 83,
   "metadata": {},
   "outputs": [],
   "source": [
    "class Car(Vehicle) :\n",
    "    category = \"car\"\n",
    "    \n",
    "    def get_info(self) :\n",
    "        info = f\"{self.honk()}! This {self.category} is a {self.get_color()} {self.get_year()} {self.get_make()}.\" \n",
    "        return info\n",
    "    \n",
    "    def honk(self) :\n",
    "        return \"Beep\"\n",
    "\n",
    "class Boat(Vehicle) :\n",
    "    category = \"boat\"\n",
    "    \n",
    "    def get_info(self) :\n",
    "        info = f\"{self.honk()}! Here comes a {self.get_color()} {self.get_make()} {self.category} that was released in {self.get_year()}.\" \n",
    "        return info\n",
    "    \n",
    "    def honk(self) :\n",
    "        return \"Toot\"\n",
    "\n",
    "class Bicycle(Vehicle) :\n",
    "    category = \"bicycle\"\n",
    "    \n",
    "    def get_info(self) :\n",
    "        info = f\"{self.honk()}! This {self.get_year()} {self.get_make()} {self.category} is {self.get_color()}.\" \n",
    "        return info\n",
    "    \n",
    "    def honk(self) :\n",
    "        return \"Ding\""
   ]
  },
  {
   "cell_type": "code",
   "execution_count": 84,
   "metadata": {},
   "outputs": [
    {
     "name": "stdout",
     "output_type": "stream",
     "text": [
      "Beep! This car is a red 2015 Ford.\n",
      "Toot! Here comes a white Yamaha boat that was released in 1998.\n",
      "Ding! This 2017 Schwinn bicycle is green.\n"
     ]
    }
   ],
   "source": [
    "car1 = Car(\"red\", \"Ford\", 2015)\n",
    "boat1 = Boat(\"white\", \"Yamaha\", 1998)\n",
    "bike1 = Bicycle(\"green\", \"Schwinn\", 2017)\n",
    "print(car1.get_info())\n",
    "print(boat1.get_info())\n",
    "print(bike1.get_info())"
   ]
  },
  {
   "cell_type": "markdown",
   "metadata": {},
   "source": [
    "## Exercise 2: \n",
    "Create an abstract class called Person with name and address attributes, and print_info() abstract method. \n",
    "1. Build an Employee class inherited from Person class that \n",
    "    - stores hired date and salary attributes \n",
    "    - print_info() method that will be used to print out all information about an employee\n",
    "    - a method to calculate employee's monthly pay where federal tax is 15%, MD tax is 4.5%, and a local tax is 3%.\n",
    "    \n",
    "2. Build a Customer class also inherited from Person class that\n",
    "    - stores balance attribute\n",
    "    - print_info() method that will be used to print out all information about a customer\n",
    "\n",
    "\n",
    "Build any method you need but apply encapsulation at all possible. Then, write a program to show your classes work with multiple employees and customers. \n",
    "\n",
    "CHALLENGE!!!\n",
    "Create an Address class and use it in Person class"
   ]
  },
  {
   "cell_type": "code",
   "execution_count": 1,
   "metadata": {},
   "outputs": [],
   "source": [
    "from abc import ABC, abstractmethod\n",
    "\n",
    "class Person(ABC) :\n",
    "    \n",
    "    def __init__ (self, name, address) :\n",
    "        self.__name = name\n",
    "        self.__address = address\n",
    "    \n",
    "    def get_name(self) :\n",
    "        return self.__name\n",
    "    \n",
    "    def get_address(self) :\n",
    "        return self.__address\n",
    "    \n",
    "    @abstractmethod\n",
    "    def print_info(self) :\n",
    "        pass"
   ]
  },
  {
   "cell_type": "code",
   "execution_count": 2,
   "metadata": {},
   "outputs": [],
   "source": [
    "class Employee(Person) :\n",
    "    \n",
    "    def __init__ (self, name, address, hired_date, salary) :\n",
    "        super().__init__ (name, address)\n",
    "        self.__hired_date = hired_date\n",
    "        self.__salary = salary\n",
    "\n",
    "    def get_date(self) :\n",
    "        return self.__hired_date\n",
    "    \n",
    "    def get_salary(self) :\n",
    "        return self.__get_salary\n",
    "        \n",
    "    def print_info(self) :\n",
    "        return f\"Name: {self.get_name()}\\nAddress: {self.get_address()}\\nHired date: {self.__hired_date}\\nSalary: ${self.__salary:,.0f}\\n\"\n",
    "    \n",
    "    def salary_calc(self) :\n",
    "        fed_tax = 0.15\n",
    "        state_tax = 0.045\n",
    "        local_tax = 0.03\n",
    "        total_tax = fed_tax + state_tax + local_tax\n",
    "        monthly_salary = (self.__salary * (1 - total_tax)) / 12 \n",
    "        return round(monthly_salary, 2)"
   ]
  },
  {
   "cell_type": "code",
   "execution_count": 3,
   "metadata": {},
   "outputs": [],
   "source": [
    "class Customer(Person) :\n",
    "    \n",
    "    def __init__ (self, name, address, balance) :\n",
    "        super().__init__ (name, address)\n",
    "        self.__balance = balance\n",
    "        \n",
    "    def add_balance(self, amount) :\n",
    "        self.__balance += amount\n",
    "        return\n",
    "    \n",
    "    def get_balance(self) :\n",
    "        return self.__balance\n",
    "    \n",
    "    def print_info(self) :\n",
    "        return f\"Name: {self.get_name()}\\nAddress: {self.get_address()}\\nBalance: ${self.__balance:,.2f}\\n\""
   ]
  },
  {
   "cell_type": "code",
   "execution_count": 4,
   "metadata": {},
   "outputs": [
    {
     "name": "stdout",
     "output_type": "stream",
     "text": [
      "Name: Andrew\n",
      "Address: 123 North Street\n",
      "Hired date: 10/19/2021\n",
      "Salary: $10,000\n",
      "\n",
      "Andrew's monthly salary: $645.83\n",
      "\n",
      "Name: Barbara\n",
      "Address: 234 South Street\n",
      "Hired date: 11/23/1987\n",
      "Salary: $100,000\n",
      "\n"
     ]
    }
   ],
   "source": [
    "emp1 = Employee(\"Andrew\", \"123 North Street\", \"10/19/2021\", 10000)\n",
    "print(emp1.print_info())\n",
    "print(f\"{emp1.get_name()}'s monthly salary: ${emp1.salary_calc():,.2f}\\n\")\n",
    "emp2 = Employee(\"Barbara\", \"234 South Street\", \"11/23/1987\", 100000)\n",
    "print(emp2.print_info())"
   ]
  },
  {
   "cell_type": "code",
   "execution_count": 80,
   "metadata": {},
   "outputs": [
    {
     "name": "stdout",
     "output_type": "stream",
     "text": [
      "Name: Elmo\n",
      "Address: 123 Sesame Street\n",
      "Balance: $200.00\n",
      "\n",
      "Elmo's new balance: $350.00\n",
      "\n",
      "Name: Big Bird\n",
      "Address: 172 Sesame Street\n",
      "Balance: $75.00\n",
      "\n"
     ]
    }
   ],
   "source": [
    "cust1 = Customer(\"Elmo\", \"123 Sesame Street\", 200)\n",
    "print(cust1.print_info())\n",
    "cust1.add_balance(150)\n",
    "print(f\"{cust1.get_name()}'s new balance: ${cust1.get_balance():,.2f}\\n\")\n",
    "cust2 = Customer(\"Big Bird\", \"172 Sesame Street\", 75)\n",
    "print(cust2.print_info())"
   ]
  },
  {
   "cell_type": "code",
   "execution_count": null,
   "metadata": {},
   "outputs": [],
   "source": []
  }
 ],
 "metadata": {
  "kernelspec": {
   "display_name": "Python 3",
   "language": "python",
   "name": "python3"
  },
  "language_info": {
   "codemirror_mode": {
    "name": "ipython",
    "version": 3
   },
   "file_extension": ".py",
   "mimetype": "text/x-python",
   "name": "python",
   "nbconvert_exporter": "python",
   "pygments_lexer": "ipython3",
   "version": "3.8.8"
  }
 },
 "nbformat": 4,
 "nbformat_minor": 4
}
